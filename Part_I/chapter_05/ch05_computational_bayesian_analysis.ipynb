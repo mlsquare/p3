{
 "cells": [
  {
   "cell_type": "markdown",
   "id": "2d6d365f",
   "metadata": {},
   "source": [
    "## Chapter 05: Computational Bayesian Analysis"
   ]
  },
  {
   "cell_type": "markdown",
   "id": "40871fcb",
   "metadata": {},
   "source": [
    "TBD"
   ]
  }
 ],
 "metadata": {
  "kernelspec": {
   "display_name": "pytorch_x86",
   "language": "python",
   "name": "pytorch_x86"
  },
  "language_info": {
   "codemirror_mode": {
    "name": "ipython",
    "version": 3
   },
   "file_extension": ".py",
   "mimetype": "text/x-python",
   "name": "python",
   "nbconvert_exporter": "python",
   "pygments_lexer": "ipython3",
   "version": "3.8.10"
  }
 },
 "nbformat": 4,
 "nbformat_minor": 5
}
